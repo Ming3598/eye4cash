{
 "cells": [
  {
   "cell_type": "code",
   "execution_count": 1,
   "metadata": {},
   "outputs": [
    {
     "name": "stderr",
     "output_type": "stream",
     "text": [
      "Using TensorFlow backend.\n"
     ]
    }
   ],
   "source": [
    "from keras.preprocessing.image import ImageDataGenerator\n",
    "from os import listdir\n",
    "import os\n",
    "import cv2\n",
    "import numpy as np\n",
    "from matplotlib import pyplot as plt\n",
    "import tensorflow as tf\n"
   ]
  },
  {
   "cell_type": "code",
   "execution_count": 3,
   "metadata": {
    "collapsed": true
   },
   "outputs": [],
   "source": [
    "path='/raidHDD/experimentData/money/orign/07201920'\n",
    "out_path='/raidHDD/experimentData/money/upup8_2'\n",
    "classes=listdir(path)\n",
    "for class_ in classes:\n",
    "    class_folder=os.path.join(out_path,class_)\n",
    "    if not os.path.exists(class_folder):\n",
    "        os.mkdir(class_folder)"
   ]
  },
  {
   "cell_type": "code",
   "execution_count": 5,
   "metadata": {
    "collapsed": true
   },
   "outputs": [],
   "source": [
    "\n",
    "global_count=0"
   ]
  },
  {
   "cell_type": "code",
   "execution_count": 6,
   "metadata": {
    "collapsed": true
   },
   "outputs": [],
   "source": [
    "image_gen=ImageDataGenerator(\n",
    "            rotation_range=0,\n",
    "            width_shift_range=0,\n",
    "            height_shift_range=0,\n",
    "            zoom_range=[1/5.0,1.0],\n",
    "            channel_shift_range=0.,\n",
    "            fill_mode='constant',\n",
    "            cval=0.,\n",
    "            horizontal_flip=False,\n",
    "            vertical_flip=False)\n",
    "trick=np.asarray([[0,1]])"
   ]
  },
  {
   "cell_type": "code",
   "execution_count": null,
   "metadata": {
    "collapsed": true
   },
   "outputs": [],
   "source": [
    "def upup(input_path,output_path,class_,global_count,ming=True):\n",
    "    file_lists=listdir(input_path)\n",
    "  \n",
    "    for file in file_lists:\n",
    "        image_path=os.path.join(input_path,file)\n",
    "        image=cv2.imread(image_path)\n",
    "\n",
    "        image_out_path=os.path.join(output_path,str(class_)+'_'+str(global_count)+'.jpeg')\n",
    "        \n",
    "        if ming==True:\n",
    "            image=image-image.mean()\n",
    "            image[image<0]=0\n",
    "        img=cv2.resize(image,(64,64))\n",
    "     \n",
    "        cv2.imwrite(image_out_path,img)\n",
    "\n",
    "        global_count=global_count+1\n",
    "        image_=np.asarray([image])\n",
    "        samples_gen=image_gen.flow(image_,trick,batch_size=1)\n",
    "        for i in range(15):\n",
    "\n",
    "            image_out_path=os.path.join(output_path,class_+'_'+str(global_count+1)+'.jpeg')\n",
    "            upsamples,_=samples_gen.next()\n",
    "\n",
    "            cv2.imwrite(image_out_path,img)   \n",
    "            print(image_out_path,img.shape)\n",
    "            global_count=global_count+1\n",
    "    return global_count"
   ]
  },
  {
   "cell_type": "code",
   "execution_count": 1,
   "metadata": {
    "scrolled": false
   },
   "outputs": [],
   "source": [
    "for class_ in classes:\n",
    "    input_path=os.path.join(path,class_)\n",
    "    output_path=os.path.join(out_path,class_)\n",
    "    global_count=upup(input_path,output_path,class_,global_count)\n",
    "    "
   ]
  },
  {
   "cell_type": "code",
   "execution_count": null,
   "metadata": {
    "collapsed": true
   },
   "outputs": [],
   "source": []
  }
 ],
 "metadata": {
  "kernelspec": {
   "display_name": "Python 3",
   "language": "python",
   "name": "python3"
  },
  "language_info": {
   "codemirror_mode": {
    "name": "ipython",
    "version": 3
   },
   "file_extension": ".py",
   "mimetype": "text/x-python",
   "name": "python",
   "nbconvert_exporter": "python",
   "pygments_lexer": "ipython3",
   "version": "3.6.1"
  }
 },
 "nbformat": 4,
 "nbformat_minor": 2
}
